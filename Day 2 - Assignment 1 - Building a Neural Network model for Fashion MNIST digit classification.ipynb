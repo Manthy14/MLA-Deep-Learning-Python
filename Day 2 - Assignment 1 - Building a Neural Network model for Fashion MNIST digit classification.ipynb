{
 "cells": [
  {
   "cell_type": "code",
   "execution_count": 1,
   "id": "7330e325",
   "metadata": {},
   "outputs": [],
   "source": [
    "from __future__ import absolute_import,division,print_function\n",
    "\n",
    "import tensorflow as tf\n",
    "from tensorflow.keras import Model\n",
    "from tensorflow.keras import layers\n",
    "import numpy as np"
   ]
  },
  {
   "cell_type": "code",
   "execution_count": 2,
   "id": "10e35e56",
   "metadata": {},
   "outputs": [],
   "source": [
    "#MNIST dataset parameters\n",
    "\n",
    "num_classes = 10  # Total classes(0-9 digits)\n",
    "\n",
    "num_features = 784 #data features(img shape : 28*28)\n",
    "\n",
    "#Training Parameters\n",
    "\n",
    "learning_rate = 0.1\n",
    "training_steps = 2000\n",
    "batch_size = 256\n",
    "display_step = 100\n",
    "\n",
    "# Network Parameters\n",
    "\n",
    "n_hidden_1 = 128 # 1st layer number of neurons\n",
    "n_hidden_2 = 256 # 2nd Layer number of neurons"
   ]
  },
  {
   "cell_type": "code",
   "execution_count": 3,
   "id": "41a1ff96",
   "metadata": {},
   "outputs": [],
   "source": [
    "# Prepare the Fashion MNIST dataset\n",
    "\n",
    "from tensorflow.keras.datasets import fashion_mnist\n",
    "(xtrain,ytrain),(xtest,ytest) = fashion_mnist.load_data()"
   ]
  },
  {
   "cell_type": "code",
   "execution_count": 4,
   "id": "0d2ae258",
   "metadata": {},
   "outputs": [
    {
     "data": {
      "text/plain": [
       "60000"
      ]
     },
     "execution_count": 4,
     "metadata": {},
     "output_type": "execute_result"
    }
   ],
   "source": [
    "len(xtrain)"
   ]
  },
  {
   "cell_type": "code",
   "execution_count": 5,
   "id": "070b38aa",
   "metadata": {},
   "outputs": [
    {
     "data": {
      "text/plain": [
       "(60000, 28, 28)"
      ]
     },
     "execution_count": 5,
     "metadata": {},
     "output_type": "execute_result"
    }
   ],
   "source": [
    "xtrain.shape"
   ]
  },
  {
   "cell_type": "code",
   "execution_count": 6,
   "id": "d1d240d4",
   "metadata": {},
   "outputs": [
    {
     "data": {
      "text/plain": [
       "array([[  0,   0,   0,   0,   0,   0,   0,   0,   0,   0,   0,   0,   0,\n",
       "          0,   0,   0,   0,   0,   0,   0,   0,   0,   0,   0,   0,   0,\n",
       "          0,   0],\n",
       "       [  0,   0,   0,   0,   0,   0,   0,   0,   0,   0,   0,   0,   0,\n",
       "          0,   0,   0,   0,   0,   0,   0,   0,   0,   0,   0,   0,   0,\n",
       "          0,   0],\n",
       "       [  0,   0,   0,   0,   0,   0,   0,   0,   0,   0,   0,   0,   0,\n",
       "          0,   0,   0,   0,   0,   0,   0,   0,   0,   0,   0,   0,   0,\n",
       "          0,   0],\n",
       "       [  0,   0,   0,   0,   0,   0,   0,   0,   0,   0,   0,   0,   1,\n",
       "          0,   0,  13,  73,   0,   0,   1,   4,   0,   0,   0,   0,   1,\n",
       "          1,   0],\n",
       "       [  0,   0,   0,   0,   0,   0,   0,   0,   0,   0,   0,   0,   3,\n",
       "          0,  36, 136, 127,  62,  54,   0,   0,   0,   1,   3,   4,   0,\n",
       "          0,   3],\n",
       "       [  0,   0,   0,   0,   0,   0,   0,   0,   0,   0,   0,   0,   6,\n",
       "          0, 102, 204, 176, 134, 144, 123,  23,   0,   0,   0,   0,  12,\n",
       "         10,   0],\n",
       "       [  0,   0,   0,   0,   0,   0,   0,   0,   0,   0,   0,   0,   0,\n",
       "          0, 155, 236, 207, 178, 107, 156, 161, 109,  64,  23,  77, 130,\n",
       "         72,  15],\n",
       "       [  0,   0,   0,   0,   0,   0,   0,   0,   0,   0,   0,   1,   0,\n",
       "         69, 207, 223, 218, 216, 216, 163, 127, 121, 122, 146, 141,  88,\n",
       "        172,  66],\n",
       "       [  0,   0,   0,   0,   0,   0,   0,   0,   0,   1,   1,   1,   0,\n",
       "        200, 232, 232, 233, 229, 223, 223, 215, 213, 164, 127, 123, 196,\n",
       "        229,   0],\n",
       "       [  0,   0,   0,   0,   0,   0,   0,   0,   0,   0,   0,   0,   0,\n",
       "        183, 225, 216, 223, 228, 235, 227, 224, 222, 224, 221, 223, 245,\n",
       "        173,   0],\n",
       "       [  0,   0,   0,   0,   0,   0,   0,   0,   0,   0,   0,   0,   0,\n",
       "        193, 228, 218, 213, 198, 180, 212, 210, 211, 213, 223, 220, 243,\n",
       "        202,   0],\n",
       "       [  0,   0,   0,   0,   0,   0,   0,   0,   0,   1,   3,   0,  12,\n",
       "        219, 220, 212, 218, 192, 169, 227, 208, 218, 224, 212, 226, 197,\n",
       "        209,  52],\n",
       "       [  0,   0,   0,   0,   0,   0,   0,   0,   0,   0,   6,   0,  99,\n",
       "        244, 222, 220, 218, 203, 198, 221, 215, 213, 222, 220, 245, 119,\n",
       "        167,  56],\n",
       "       [  0,   0,   0,   0,   0,   0,   0,   0,   0,   4,   0,   0,  55,\n",
       "        236, 228, 230, 228, 240, 232, 213, 218, 223, 234, 217, 217, 209,\n",
       "         92,   0],\n",
       "       [  0,   0,   1,   4,   6,   7,   2,   0,   0,   0,   0,   0, 237,\n",
       "        226, 217, 223, 222, 219, 222, 221, 216, 223, 229, 215, 218, 255,\n",
       "         77,   0],\n",
       "       [  0,   3,   0,   0,   0,   0,   0,   0,   0,  62, 145, 204, 228,\n",
       "        207, 213, 221, 218, 208, 211, 218, 224, 223, 219, 215, 224, 244,\n",
       "        159,   0],\n",
       "       [  0,   0,   0,   0,  18,  44,  82, 107, 189, 228, 220, 222, 217,\n",
       "        226, 200, 205, 211, 230, 224, 234, 176, 188, 250, 248, 233, 238,\n",
       "        215,   0],\n",
       "       [  0,  57, 187, 208, 224, 221, 224, 208, 204, 214, 208, 209, 200,\n",
       "        159, 245, 193, 206, 223, 255, 255, 221, 234, 221, 211, 220, 232,\n",
       "        246,   0],\n",
       "       [  3, 202, 228, 224, 221, 211, 211, 214, 205, 205, 205, 220, 240,\n",
       "         80, 150, 255, 229, 221, 188, 154, 191, 210, 204, 209, 222, 228,\n",
       "        225,   0],\n",
       "       [ 98, 233, 198, 210, 222, 229, 229, 234, 249, 220, 194, 215, 217,\n",
       "        241,  65,  73, 106, 117, 168, 219, 221, 215, 217, 223, 223, 224,\n",
       "        229,  29],\n",
       "       [ 75, 204, 212, 204, 193, 205, 211, 225, 216, 185, 197, 206, 198,\n",
       "        213, 240, 195, 227, 245, 239, 223, 218, 212, 209, 222, 220, 221,\n",
       "        230,  67],\n",
       "       [ 48, 203, 183, 194, 213, 197, 185, 190, 194, 192, 202, 214, 219,\n",
       "        221, 220, 236, 225, 216, 199, 206, 186, 181, 177, 172, 181, 205,\n",
       "        206, 115],\n",
       "       [  0, 122, 219, 193, 179, 171, 183, 196, 204, 210, 213, 207, 211,\n",
       "        210, 200, 196, 194, 191, 195, 191, 198, 192, 176, 156, 167, 177,\n",
       "        210,  92],\n",
       "       [  0,   0,  74, 189, 212, 191, 175, 172, 175, 181, 185, 188, 189,\n",
       "        188, 193, 198, 204, 209, 210, 210, 211, 188, 188, 194, 192, 216,\n",
       "        170,   0],\n",
       "       [  2,   0,   0,   0,  66, 200, 222, 237, 239, 242, 246, 243, 244,\n",
       "        221, 220, 193, 191, 179, 182, 182, 181, 176, 166, 168,  99,  58,\n",
       "          0,   0],\n",
       "       [  0,   0,   0,   0,   0,   0,   0,  40,  61,  44,  72,  41,  35,\n",
       "          0,   0,   0,   0,   0,   0,   0,   0,   0,   0,   0,   0,   0,\n",
       "          0,   0],\n",
       "       [  0,   0,   0,   0,   0,   0,   0,   0,   0,   0,   0,   0,   0,\n",
       "          0,   0,   0,   0,   0,   0,   0,   0,   0,   0,   0,   0,   0,\n",
       "          0,   0],\n",
       "       [  0,   0,   0,   0,   0,   0,   0,   0,   0,   0,   0,   0,   0,\n",
       "          0,   0,   0,   0,   0,   0,   0,   0,   0,   0,   0,   0,   0,\n",
       "          0,   0]], dtype=uint8)"
      ]
     },
     "execution_count": 6,
     "metadata": {},
     "output_type": "execute_result"
    }
   ],
   "source": [
    "xtrain[0]"
   ]
  },
  {
   "cell_type": "code",
   "execution_count": 7,
   "id": "749a6ec6",
   "metadata": {},
   "outputs": [],
   "source": [
    "# Convert into float32\n",
    "xtrain,xtest = np.array(xtrain,np.float32), np.array(xtest,np.float32)"
   ]
  },
  {
   "cell_type": "markdown",
   "id": "9dbf62c4",
   "metadata": {},
   "source": [
    "# Flatten images to 1-D vector of 748 features(28*28)"
   ]
  },
  {
   "cell_type": "code",
   "execution_count": 8,
   "id": "90942f8e",
   "metadata": {},
   "outputs": [],
   "source": [
    "#Flatten images to 1-D vector of 748 features(28*28)\n",
    "xtrain,xtest = xtrain.reshape([-1,num_features]),xtest.reshape([-1,num_features])\n"
   ]
  },
  {
   "cell_type": "code",
   "execution_count": 9,
   "id": "3bd11a63",
   "metadata": {},
   "outputs": [
    {
     "name": "stdout",
     "output_type": "stream",
     "text": [
      "[  0.   0.   0.   0.   0.   0.   0.   0.   0.   0.   0.   0.   0.   0.\n",
      "   0.   0.   0.   0.   0.   0.   0.   0.   0.   0.   0.   0.   0.   0.\n",
      "   0.   0.   0.   0.   0.   0.   0.   0.   0.   0.   0.   0.   0.   0.\n",
      "   0.   0.   0.   0.   0.   0.   0.   0.   0.   0.   0.   0.   0.   0.\n",
      "   0.   0.   0.   0.   0.   0.   0.   0.   0.   0.   0.   0.   0.   0.\n",
      "   0.   0.   0.   0.   0.   0.   0.   0.   0.   0.   0.   0.   0.   0.\n",
      "   0.   0.   0.   0.   0.   0.   0.   0.   0.   0.   0.   0.   0.   0.\n",
      "   0.   0.   0.   0.   0.   0.   0.   0.   0.   0.   0.   0.   0.   0.\n",
      "   0.   0.   0.   0.   0.   0.   0.   0.   0.   0.   0.   0.   0.   0.\n",
      "   0.   0.   0.   0.   0.   0.   0.   0.   0.   0.   0.   0.   0.   0.\n",
      "   0.   0.   0.   0.   0.   0.   0.   0.   0.   0.   0.   0.   0.   0.\n",
      "   0.   0.   0.   0.   0.   0.   0.   0.   0.   0.   0.   0.   0.   0.\n",
      "   0.   0.   0.   0.   0.   0.   0.   0.   0.   0.   0.   0.   0.   0.\n",
      "   0.   0.   0.   0.   0.   0.   0.   0.   0.   0.   0.   0.   0.   0.\n",
      "   0.   0.   0.   0.   0.   0.   0.   0.   0.   0.   0.   0.   0.   0.\n",
      "   0.   0.   0.   0.   0.   3.   1.   0.   0.   7.   0.  37.   0.   0.\n",
      "   0.   0.   0.   0.   0.   0.   0.   0.   0.   0.   0.   0.   0.   1.\n",
      "   2.   0.  27.  84.  11.   0.   0.   0.   0.   0.   0. 119.   0.   0.\n",
      "   0.   0.   0.   0.   0.   0.   0.   0.   0.   0.   0.   0.   0.   1.\n",
      "   0.   0.  88. 143. 110.   0.   0.   0.   0.  22.  93. 106.   0.   0.\n",
      "   0.   0.   0.   0.   0.   0.   0.   0.   0.   0.   0.   0.   0.   4.\n",
      "   0.  53. 129. 120. 147. 175. 157. 166. 135. 154. 168. 140.   0.   0.\n",
      "   0.   0.   0.   0.   0.   0.   0.   0.   0.   0.   0.   0.   2.   0.\n",
      "  11. 137. 130. 128. 160. 176. 159. 167. 178. 149. 151. 144.   0.   0.\n",
      "   0.   0.   0.   0.   0.   0.   1.   0.   2.   1.   0.   3.   0.   0.\n",
      " 115. 114. 106. 137. 168. 153. 156. 165. 167. 143. 157. 158.  11.   0.\n",
      "   0.   0.   0.   0.   1.   0.   0.   0.   0.   0.   3.   0.   0.  89.\n",
      " 139.  90.  94. 153. 149. 131. 151. 169. 172. 143. 159. 169.  48.   0.\n",
      "   0.   0.   0.   0.   0.   0.   2.   4.   1.   0.   0.   0.  98. 136.\n",
      " 110. 109. 110. 162. 135. 144. 149. 159. 167. 144. 158. 169. 119.   0.\n",
      "   0.   0.   2.   2.   1.   2.   0.   0.   0.   0.  26. 108. 117.  99.\n",
      " 111. 117. 136. 156. 134. 154. 154. 156. 160. 141. 147. 156. 178.   0.\n",
      "   3.   0.   0.   0.   0.   0.   0.  21.  53.  92. 117. 111. 103. 115.\n",
      " 129. 134. 143. 154. 165. 170. 154. 151. 154. 143. 138. 150. 165.  43.\n",
      "   0.   0.  23.  54.  65.  76.  85. 118. 128. 123. 111. 113. 118. 127.\n",
      " 125. 139. 133. 136. 160. 140. 155. 161. 144. 155. 172. 161. 189.  62.\n",
      "   0.  68.  94.  90. 111. 114. 111. 114. 115. 127. 135. 136. 143. 126.\n",
      " 127. 151. 154. 143. 148. 125. 162. 162. 144. 138. 153. 162. 196.  58.\n",
      "  70. 169. 129. 104.  98. 100.  94.  97.  98. 102. 108. 106. 119. 120.\n",
      " 129. 149. 156. 167. 190. 190. 196. 198. 198. 187. 197. 189. 184.  36.\n",
      "  16. 126. 171. 188. 188. 184. 171. 153. 135. 120. 126. 127. 146. 185.\n",
      " 195. 209. 208. 255. 209. 177. 245. 252. 251. 251. 247. 220. 206.  49.\n",
      "   0.   0.   0.  12.  67. 106. 164. 185. 199. 210. 211. 210. 208. 190.\n",
      " 150.  82.   8.   0.   0.   0. 178. 208. 188. 175. 162. 158. 151.  11.\n",
      "   0.   0.   0.   0.   0.   0.   0.   0.   0.   0.   0.   0.   0.   0.\n",
      "   0.   0.   0.   0.   0.   0.   0.   0.   0.   0.   0.   0.   0.   0.\n",
      "   0.   0.   0.   0.   0.   0.   0.   0.   0.   0.   0.   0.   0.   0.\n",
      "   0.   0.   0.   0.   0.   0.   0.   0.   0.   0.   0.   0.   0.   0.\n",
      "   0.   0.   0.   0.   0.   0.   0.   0.   0.   0.   0.   0.   0.   0.\n",
      "   0.   0.   0.   0.   0.   0.   0.   0.   0.   0.   0.   0.   0.   0.\n",
      "   0.   0.   0.   0.   0.   0.   0.   0.   0.   0.   0.   0.   0.   0.\n",
      "   0.   0.   0.   0.   0.   0.   0.   0.   0.   0.   0.   0.   0.   0.\n",
      "   0.   0.   0.   0.   0.   0.   0.   0.   0.   0.   0.   0.   0.   0.\n",
      "   0.   0.   0.   0.   0.   0.   0.   0.   0.   0.   0.   0.   0.   0.\n",
      "   0.   0.   0.   0.   0.   0.   0.   0.   0.   0.   0.   0.   0.   0.\n",
      "   0.   0.   0.   0.   0.   0.   0.   0.   0.   0.   0.   0.   0.   0.]\n"
     ]
    }
   ],
   "source": [
    "print(xtest[0])"
   ]
  },
  {
   "cell_type": "markdown",
   "id": "bbdd27a0",
   "metadata": {},
   "source": [
    "# Noramalize the images values from [0,255] to [0,1]"
   ]
  },
  {
   "cell_type": "code",
   "execution_count": 10,
   "id": "62f12888",
   "metadata": {},
   "outputs": [],
   "source": [
    "#Noramalize the images values from [0,255] to [0,1]\n",
    "xtrain,xtest = xtrain/255., xtest/255."
   ]
  },
  {
   "cell_type": "code",
   "execution_count": 11,
   "id": "d7682801",
   "metadata": {},
   "outputs": [
    {
     "name": "stdout",
     "output_type": "stream",
     "text": [
      "[0.         0.         0.         0.         0.         0.\n",
      " 0.         0.         0.         0.         0.         0.\n",
      " 0.         0.         0.         0.         0.         0.\n",
      " 0.         0.         0.         0.         0.         0.\n",
      " 0.         0.         0.         0.         0.         0.\n",
      " 0.         0.         0.         0.         0.         0.\n",
      " 0.         0.         0.         0.         0.         0.\n",
      " 0.         0.         0.         0.         0.         0.\n",
      " 0.         0.         0.         0.         0.         0.\n",
      " 0.         0.         0.         0.         0.         0.\n",
      " 0.         0.         0.         0.         0.         0.\n",
      " 0.         0.         0.         0.         0.         0.\n",
      " 0.         0.         0.         0.         0.         0.\n",
      " 0.         0.         0.         0.         0.         0.\n",
      " 0.         0.         0.         0.         0.         0.\n",
      " 0.         0.         0.         0.         0.         0.\n",
      " 0.         0.         0.         0.         0.         0.\n",
      " 0.         0.         0.         0.         0.         0.\n",
      " 0.         0.         0.         0.         0.         0.\n",
      " 0.         0.         0.         0.         0.         0.\n",
      " 0.         0.         0.         0.         0.         0.\n",
      " 0.         0.         0.         0.         0.         0.\n",
      " 0.         0.         0.         0.         0.         0.\n",
      " 0.         0.         0.         0.         0.         0.\n",
      " 0.         0.         0.         0.         0.         0.\n",
      " 0.         0.         0.         0.         0.         0.\n",
      " 0.         0.         0.         0.         0.         0.\n",
      " 0.         0.         0.         0.         0.         0.\n",
      " 0.         0.         0.         0.         0.         0.\n",
      " 0.         0.         0.         0.         0.         0.\n",
      " 0.         0.         0.         0.         0.         0.\n",
      " 0.         0.         0.         0.         0.         0.\n",
      " 0.         0.         0.         0.         0.         0.\n",
      " 0.         0.         0.         0.         0.         0.\n",
      " 0.         0.         0.         0.         0.         0.\n",
      " 0.         0.         0.         0.         0.         0.01176471\n",
      " 0.00392157 0.         0.         0.02745098 0.         0.14509805\n",
      " 0.         0.         0.         0.         0.         0.\n",
      " 0.         0.         0.         0.         0.         0.\n",
      " 0.         0.         0.         0.00392157 0.00784314 0.\n",
      " 0.10588235 0.32941177 0.04313726 0.         0.         0.\n",
      " 0.         0.         0.         0.46666667 0.         0.\n",
      " 0.         0.         0.         0.         0.         0.\n",
      " 0.         0.         0.         0.         0.         0.\n",
      " 0.         0.00392157 0.         0.         0.34509805 0.56078434\n",
      " 0.43137255 0.         0.         0.         0.         0.08627451\n",
      " 0.3647059  0.41568628 0.         0.         0.         0.\n",
      " 0.         0.         0.         0.         0.         0.\n",
      " 0.         0.         0.         0.         0.         0.01568628\n",
      " 0.         0.20784314 0.5058824  0.47058824 0.5764706  0.6862745\n",
      " 0.6156863  0.6509804  0.5294118  0.6039216  0.65882355 0.54901963\n",
      " 0.         0.         0.         0.         0.         0.\n",
      " 0.         0.         0.         0.         0.         0.\n",
      " 0.         0.         0.00784314 0.         0.04313726 0.5372549\n",
      " 0.50980395 0.5019608  0.627451   0.6901961  0.62352943 0.654902\n",
      " 0.69803923 0.58431375 0.5921569  0.5647059  0.         0.\n",
      " 0.         0.         0.         0.         0.         0.\n",
      " 0.00392157 0.         0.00784314 0.00392157 0.         0.01176471\n",
      " 0.         0.         0.4509804  0.44705883 0.41568628 0.5372549\n",
      " 0.65882355 0.6        0.6117647  0.64705884 0.654902   0.56078434\n",
      " 0.6156863  0.61960787 0.04313726 0.         0.         0.\n",
      " 0.         0.         0.00392157 0.         0.         0.\n",
      " 0.         0.         0.01176471 0.         0.         0.34901962\n",
      " 0.54509807 0.3529412  0.36862746 0.6        0.58431375 0.5137255\n",
      " 0.5921569  0.6627451  0.6745098  0.56078434 0.62352943 0.6627451\n",
      " 0.1882353  0.         0.         0.         0.         0.\n",
      " 0.         0.         0.00784314 0.01568628 0.00392157 0.\n",
      " 0.         0.         0.38431373 0.53333336 0.43137255 0.42745098\n",
      " 0.43137255 0.63529414 0.5294118  0.5647059  0.58431375 0.62352943\n",
      " 0.654902   0.5647059  0.61960787 0.6627451  0.46666667 0.\n",
      " 0.         0.         0.00784314 0.00784314 0.00392157 0.00784314\n",
      " 0.         0.         0.         0.         0.10196079 0.42352942\n",
      " 0.45882353 0.3882353  0.43529412 0.45882353 0.53333336 0.6117647\n",
      " 0.5254902  0.6039216  0.6039216  0.6117647  0.627451   0.5529412\n",
      " 0.5764706  0.6117647  0.69803923 0.         0.01176471 0.\n",
      " 0.         0.         0.         0.         0.         0.08235294\n",
      " 0.20784314 0.36078432 0.45882353 0.43529412 0.40392157 0.4509804\n",
      " 0.5058824  0.5254902  0.56078434 0.6039216  0.64705884 0.6666667\n",
      " 0.6039216  0.5921569  0.6039216  0.56078434 0.5411765  0.5882353\n",
      " 0.64705884 0.16862746 0.         0.         0.09019608 0.21176471\n",
      " 0.25490198 0.29803923 0.33333334 0.4627451  0.5019608  0.48235294\n",
      " 0.43529412 0.44313726 0.4627451  0.49803922 0.49019608 0.54509807\n",
      " 0.52156866 0.53333336 0.627451   0.54901963 0.60784316 0.6313726\n",
      " 0.5647059  0.60784316 0.6745098  0.6313726  0.7411765  0.24313726\n",
      " 0.         0.26666668 0.36862746 0.3529412  0.43529412 0.44705883\n",
      " 0.43529412 0.44705883 0.4509804  0.49803922 0.5294118  0.53333336\n",
      " 0.56078434 0.49411765 0.49803922 0.5921569  0.6039216  0.56078434\n",
      " 0.5803922  0.49019608 0.63529414 0.63529414 0.5647059  0.5411765\n",
      " 0.6        0.63529414 0.76862746 0.22745098 0.27450982 0.6627451\n",
      " 0.5058824  0.40784314 0.38431373 0.39215687 0.36862746 0.38039216\n",
      " 0.38431373 0.4        0.42352942 0.41568628 0.46666667 0.47058824\n",
      " 0.5058824  0.58431375 0.6117647  0.654902   0.74509805 0.74509805\n",
      " 0.76862746 0.7764706  0.7764706  0.73333335 0.77254903 0.7411765\n",
      " 0.72156864 0.14117648 0.0627451  0.49411765 0.67058825 0.7372549\n",
      " 0.7372549  0.72156864 0.67058825 0.6        0.5294118  0.47058824\n",
      " 0.49411765 0.49803922 0.57254905 0.7254902  0.7647059  0.81960785\n",
      " 0.8156863  1.         0.81960785 0.69411767 0.9607843  0.9882353\n",
      " 0.9843137  0.9843137  0.96862745 0.8627451  0.80784315 0.19215687\n",
      " 0.         0.         0.         0.04705882 0.2627451  0.41568628\n",
      " 0.6431373  0.7254902  0.78039217 0.8235294  0.827451   0.8235294\n",
      " 0.8156863  0.74509805 0.5882353  0.32156864 0.03137255 0.\n",
      " 0.         0.         0.69803923 0.8156863  0.7372549  0.6862745\n",
      " 0.63529414 0.61960787 0.5921569  0.04313726 0.         0.\n",
      " 0.         0.         0.         0.         0.         0.\n",
      " 0.         0.         0.         0.         0.         0.\n",
      " 0.         0.         0.         0.         0.         0.\n",
      " 0.         0.         0.         0.         0.         0.\n",
      " 0.         0.         0.         0.         0.         0.\n",
      " 0.         0.         0.         0.         0.         0.\n",
      " 0.         0.         0.         0.         0.         0.\n",
      " 0.         0.         0.         0.         0.         0.\n",
      " 0.         0.         0.         0.         0.         0.\n",
      " 0.         0.         0.         0.         0.         0.\n",
      " 0.         0.         0.         0.         0.         0.\n",
      " 0.         0.         0.         0.         0.         0.\n",
      " 0.         0.         0.         0.         0.         0.\n",
      " 0.         0.         0.         0.         0.         0.\n",
      " 0.         0.         0.         0.         0.         0.\n",
      " 0.         0.         0.         0.         0.         0.\n",
      " 0.         0.         0.         0.         0.         0.\n",
      " 0.         0.         0.         0.         0.         0.\n",
      " 0.         0.         0.         0.         0.         0.\n",
      " 0.         0.         0.         0.         0.         0.\n",
      " 0.         0.         0.         0.         0.         0.\n",
      " 0.         0.         0.         0.         0.         0.\n",
      " 0.         0.         0.         0.         0.         0.\n",
      " 0.         0.         0.         0.         0.         0.\n",
      " 0.         0.         0.         0.         0.         0.\n",
      " 0.         0.         0.         0.         0.         0.\n",
      " 0.         0.         0.         0.         0.         0.\n",
      " 0.         0.         0.         0.        ]\n"
     ]
    }
   ],
   "source": [
    "print(xtest[0])"
   ]
  },
  {
   "cell_type": "markdown",
   "id": "1eb44b25",
   "metadata": {},
   "source": [
    "# Use tf.data API to shuffle and batch data"
   ]
  },
  {
   "cell_type": "code",
   "execution_count": 12,
   "id": "ec7f537c",
   "metadata": {},
   "outputs": [],
   "source": [
    "train_data = tf.data.Dataset.from_tensor_slices((xtrain,ytrain))\n",
    "train_data = train_data.repeat().shuffle(5000).batch(batch_size).prefetch(1)"
   ]
  },
  {
   "cell_type": "markdown",
   "id": "f72215ac",
   "metadata": {},
   "source": [
    "# Create a TF Model"
   ]
  },
  {
   "cell_type": "code",
   "execution_count": 13,
   "id": "67690241",
   "metadata": {},
   "outputs": [],
   "source": [
    "class  NeuralNet(Model):\n",
    "    #set layers\n",
    "    def __init__(self):\n",
    "        super(NeuralNet,self).__init__()\n",
    "        #First fully connected hidden layer\n",
    "        self.fc1 = layers.Dense(n_hidden_1,activation= tf.nn.relu)\n",
    "        #second fully connected hidden layer\n",
    "        self.fc2 = layers.Dense(n_hidden_2,activation= tf.nn.relu)\n",
    "        \n",
    "        #output layer\n",
    "        self.out = layers.Dense(num_classes,activation=tf.nn.softmax)\n",
    "        \n",
    "    #Set forward pass\n",
    "    def call(self,x,is_training = False):\n",
    "        x = self.fc1(x)\n",
    "        x = self.out(x)\n",
    "        if not is_training:\n",
    "            #tf cross entropy expect logits without softmax, so only apply softmax when not training\n",
    "            x = tf.nn.softmax(x)\n",
    "        return x\n",
    "    \n",
    "    \n",
    "# Build Neural Networks\n",
    "\n",
    "neural_network = NeuralNet()\n"
   ]
  },
  {
   "cell_type": "markdown",
   "id": "b82307ff",
   "metadata": {},
   "source": [
    "# Define Loss Function"
   ]
  },
  {
   "cell_type": "code",
   "execution_count": 14,
   "id": "1ba1c1c3",
   "metadata": {},
   "outputs": [],
   "source": [
    "def cross_entropy_loss(x,y):\n",
    "    # Convert labels to int64 for tf loss\n",
    "    y = tf.cast(y,tf.int64)\n",
    "    loss = tf.nn.sparse_softmax_cross_entropy_with_logits(labels=y,logits=x)\n",
    "    return tf.reduce_mean(loss)"
   ]
  },
  {
   "cell_type": "markdown",
   "id": "21d5e542",
   "metadata": {},
   "source": [
    "# Defince Accuracy metrics"
   ]
  },
  {
   "cell_type": "code",
   "execution_count": 15,
   "id": "0826ad4d",
   "metadata": {},
   "outputs": [],
   "source": [
    "def accuracy(ypred,ytrue):\n",
    "    correct_prediction = tf.equal(tf.argmax(ypred,1),tf.cast(ytrue,tf.int64))\n",
    "    return tf.reduce_mean(tf.cast(correct_prediction,tf.float32),axis = -1)"
   ]
  },
  {
   "cell_type": "code",
   "execution_count": 16,
   "id": "e07f2691",
   "metadata": {},
   "outputs": [],
   "source": [
    "#optimizer\n",
    "optimizer = tf.optimizers.SGD(learning_rate)"
   ]
  },
  {
   "cell_type": "markdown",
   "id": "5285664c",
   "metadata": {},
   "source": [
    "# Run-Optimization"
   ]
  },
  {
   "cell_type": "code",
   "execution_count": 17,
   "id": "f7cb7ac2",
   "metadata": {},
   "outputs": [],
   "source": [
    "def run_optimization(x,y):\n",
    "    with tf.GradientTape() as g:\n",
    "        #Forward loss\n",
    "        pred = neural_network(x, is_training = True)\n",
    "        #compute loss\n",
    "        loss = cross_entropy_loss(pred, y)\n",
    "        \n",
    "    #Variables to update\n",
    "    trainable_variables = neural_network.trainable_variables\n",
    "    #Compute Gradients\n",
    "    gradients = g.gradient(loss, trainable_variables)\n",
    "    \n",
    "    #Update W and b following gradients\n",
    "    optimizer.apply_gradients(zip(gradients, trainable_variables))"
   ]
  },
  {
   "cell_type": "markdown",
   "id": "2e98f39b",
   "metadata": {},
   "source": [
    "# Run Training"
   ]
  },
  {
   "cell_type": "code",
   "execution_count": 18,
   "id": "36390351",
   "metadata": {},
   "outputs": [
    {
     "name": "stdout",
     "output_type": "stream",
     "text": [
      "step: 100, Loss: 2.000527, Accuracy: 0.550781\n",
      "step: 200, Loss: 1.890270, Accuracy: 0.597656\n",
      "step: 300, Loss: 1.862947, Accuracy: 0.660156\n",
      "step: 400, Loss: 1.804688, Accuracy: 0.687500\n",
      "step: 500, Loss: 1.827587, Accuracy: 0.664062\n",
      "step: 600, Loss: 1.790707, Accuracy: 0.699219\n",
      "step: 700, Loss: 1.755294, Accuracy: 0.746094\n",
      "step: 800, Loss: 1.744876, Accuracy: 0.746094\n",
      "step: 900, Loss: 1.771097, Accuracy: 0.703125\n",
      "step: 1000, Loss: 1.747017, Accuracy: 0.726562\n",
      "step: 1100, Loss: 1.798587, Accuracy: 0.671875\n",
      "step: 1200, Loss: 1.745454, Accuracy: 0.726562\n",
      "step: 1300, Loss: 1.743465, Accuracy: 0.730469\n",
      "step: 1400, Loss: 1.751984, Accuracy: 0.722656\n",
      "step: 1500, Loss: 1.722412, Accuracy: 0.753906\n",
      "step: 1600, Loss: 1.731965, Accuracy: 0.746094\n",
      "step: 1700, Loss: 1.733013, Accuracy: 0.730469\n",
      "step: 1800, Loss: 1.736375, Accuracy: 0.734375\n",
      "step: 1900, Loss: 1.746550, Accuracy: 0.722656\n",
      "step: 2000, Loss: 1.687165, Accuracy: 0.792969\n"
     ]
    }
   ],
   "source": [
    "for step,(batch_x,batch_y) in enumerate(train_data.take(training_steps),1):\n",
    "    run_optimization(batch_x,batch_y)\n",
    "    \n",
    "    if(step %display_step) == 0:\n",
    "        pred = neural_network(batch_x,is_training = True)\n",
    "        loss = cross_entropy_loss(pred,batch_y)\n",
    "        acc = accuracy(pred,batch_y)\n",
    "        print('step: %i, Loss: %f, Accuracy: %f'%(step,loss,acc))"
   ]
  },
  {
   "cell_type": "code",
   "execution_count": 19,
   "id": "36aae3b4",
   "metadata": {},
   "outputs": [
    {
     "name": "stdout",
     "output_type": "stream",
     "text": [
      "Test Accuracy: 0.732400\n"
     ]
    }
   ],
   "source": [
    "#Test model on validation set.\n",
    "pred = neural_network(xtest, is_training=False)\n",
    "print(\"Test Accuracy: %f\"%accuracy(pred, ytest))"
   ]
  },
  {
   "cell_type": "code",
   "execution_count": 20,
   "id": "31eafc43",
   "metadata": {},
   "outputs": [],
   "source": [
    "# Visualize predictions\n",
    "import matplotlib.pyplot as plt"
   ]
  },
  {
   "cell_type": "code",
   "execution_count": 21,
   "id": "11fbc735",
   "metadata": {},
   "outputs": [
    {
     "data": {
      "image/png": "[encoded data removed]",
      "text/plain": [
       "<Figure size 640x480 with 1 Axes>"
      ]
     },
     "metadata": {},
     "output_type": "display_data"
    },
    {
     "name": "stdout",
     "output_type": "stream",
     "text": [
      "Model prediction: 9\n"
     ]
    },
    {
     "data": {
      "image/png": "[encoded data removed]",
      "text/plain": [
       "<Figure size 640x480 with 1 Axes>"
      ]
     },
     "metadata": {},
     "output_type": "display_data"
    },
    {
     "name": "stdout",
     "output_type": "stream",
     "text": [
      "Model prediction: 2\n"
     ]
    },
    {
     "data": {
      "image/png": "[encoded data removed]",
      "text/plain": [
       "<Figure size 640x480 with 1 Axes>"
      ]
     },
     "metadata": {},
     "output_type": "display_data"
    },
    {
     "name": "stdout",
     "output_type": "stream",
     "text": [
      "Model prediction: 1\n"
     ]
    },
    {
     "data": {
      "image/png": "[encoded data removed]",
      "text/plain": [
       "<Figure size 640x480 with 1 Axes>"
      ]
     },
     "metadata": {},
     "output_type": "display_data"
    },
    {
     "name": "stdout",
     "output_type": "stream",
     "text": [
      "Model prediction: 1\n"
     ]
    },
    {
     "data": {
      "image/png": "[encoded data removed]",
      "text/plain": [
       "<Figure size 640x480 with 1 Axes>"
      ]
     },
     "metadata": {},
     "output_type": "display_data"
    },
    {
     "name": "stdout",
     "output_type": "stream",
     "text": [
      "Model prediction: 2\n"
     ]
    }
   ],
   "source": [
    "#Predict 5 images from validation set.\n",
    "n_images = 5\n",
    "test_images = xtest[:n_images]\n",
    "predictions = neural_network(test_images)\n",
    "# Display image and model prediction.\n",
    "for i in range(n_images):\n",
    " plt.imshow(np.reshape(test_images[i], [28, 28]), cmap='gray')\n",
    " plt.show()\n",
    " print(\"Model prediction: %i\" % np.argmax(predictions.numpy()[i]))"
   ]
  },
  {
   "cell_type": "code",
   "execution_count": null,
   "id": "60c15021",
   "metadata": {},
   "outputs": [],
   "source": []
  }
 ],
 "metadata": {
  "kernelspec": {
   "display_name": "Python 3 (ipykernel)",
   "language": "python",
   "name": "python3"
  },
  "language_info": {
   "codemirror_mode": {
    "name": "ipython",
    "version": 3
   },
   "file_extension": ".py",
   "mimetype": "text/x-python",
   "name": "python",
   "nbconvert_exporter": "python",
   "pygments_lexer": "ipython3",
   "version": "3.11.4"
  }
 },
 "nbformat": 4,
 "nbformat_minor": 5
}
