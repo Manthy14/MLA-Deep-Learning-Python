{
 "cells": [
  {
   "cell_type": "markdown",
   "id": "ee3b9265",
   "metadata": {},
   "source": [
    "# Import all library "
   ]
  },
  {
   "cell_type": "code",
   "execution_count": 1,
   "id": "6ca6157b",
   "metadata": {},
   "outputs": [],
   "source": [
    "from keras.models import Sequential\n",
    "from keras.layers import Dense\n",
    "from keras.optimizers import SGD\n",
    "from matplotlib import pyplot\n",
    "import matplotlib.pyplot as plt\n",
    "from keras.layers import BatchNormalization\n",
    "from keras.utils import to_categorical"
   ]
  },
  {
   "cell_type": "markdown",
   "id": "853697a2",
   "metadata": {},
   "source": [
    "# loading the MNIST dataset"
   ]
  },
  {
   "cell_type": "code",
   "execution_count": 3,
   "id": "938cc5eb",
   "metadata": {},
   "outputs": [],
   "source": [
    "from keras.datasets import mnist\n",
    "(x_train, y_train), (x_test, y_test) = mnist.load_data()"
   ]
  },
  {
   "cell_type": "markdown",
   "id": "7035254a",
   "metadata": {},
   "source": [
    "# Normalize pixel values to be between 0 &1"
   ]
  },
  {
   "cell_type": "code",
   "execution_count": 4,
   "id": "a41c420a",
   "metadata": {},
   "outputs": [],
   "source": [
    "x_train, x_test = x_train / 255.0, x_test / 255.0"
   ]
  },
  {
   "cell_type": "markdown",
   "id": "3a057a24",
   "metadata": {},
   "source": [
    "# Reshape the data to have a single channel for grayscale images"
   ]
  },
  {
   "cell_type": "code",
   "execution_count": 5,
   "id": "3755f8e2",
   "metadata": {},
   "outputs": [],
   "source": [
    "x_train = x_train.reshape((-1, 28 * 28))\n",
    "x_test = x_test.reshape((-1, 28 * 28))"
   ]
  },
  {
   "cell_type": "markdown",
   "id": "4bf1cdc4",
   "metadata": {},
   "source": [
    "# One-hot encode the labels"
   ]
  },
  {
   "cell_type": "code",
   "execution_count": 6,
   "id": "b26a3225",
   "metadata": {},
   "outputs": [],
   "source": [
    "y_train = to_categorical(y_train, 10)\n",
    "y_test = to_categorical(y_test, 10)"
   ]
  },
  {
   "cell_type": "markdown",
   "id": "f06acbc6",
   "metadata": {},
   "source": [
    "# Define the Model"
   ]
  },
  {
   "cell_type": "code",
   "execution_count": 13,
   "id": "1da640d5",
   "metadata": {},
   "outputs": [],
   "source": [
    "model = Sequential()\n",
    "model.add(Dense(50, input_dim=784, activation='relu', kernel_initializer='he_uniform'))\n",
    "model.add(BatchNormalization())\n",
    "model.add(Dense(10, activation='softmax'))\n",
    "\n",
    "# optimizer\n",
    "optm = SGD(learning_rate=0.01, momentum=0.9)\n",
    "\n",
    "# compiler\n",
    "model.compile(loss='categorical_crossentropy', optimizer=optm, metrics=['accuracy'])"
   ]
  },
  {
   "cell_type": "code",
   "execution_count": 14,
   "id": "0adcb881",
   "metadata": {},
   "outputs": [
    {
     "name": "stdout",
     "output_type": "stream",
     "text": [
      "Model: \"sequential_1\"\n",
      "_________________________________________________________________\n",
      " Layer (type)                Output Shape              Param #   \n",
      "=================================================================\n",
      " dense_2 (Dense)             (None, 50)                39250     \n",
      "                                                                 \n",
      " batch_normalization_1 (Bat  (None, 50)                200       \n",
      " chNormalization)                                                \n",
      "                                                                 \n",
      " dense_3 (Dense)             (None, 10)                510       \n",
      "                                                                 \n",
      "=================================================================\n",
      "Total params: 39960 (156.09 KB)\n",
      "Trainable params: 39860 (155.70 KB)\n",
      "Non-trainable params: 100 (400.00 Byte)\n",
      "_________________________________________________________________\n"
     ]
    }
   ],
   "source": [
    "model.summary()"
   ]
  },
  {
   "cell_type": "code",
   "execution_count": 17,
   "id": "be0e0e40",
   "metadata": {},
   "outputs": [
    {
     "name": "stdout",
     "output_type": "stream",
     "text": [
      "Epoch 1/10\n",
      "1875/1875 [==============================] - 5s 2ms/step - loss: 0.0880 - accuracy: 0.9725 - val_loss: 0.0909 - val_accuracy: 0.9721\n",
      "Epoch 2/10\n",
      "1875/1875 [==============================] - 5s 3ms/step - loss: 0.0825 - accuracy: 0.9748 - val_loss: 0.1009 - val_accuracy: 0.9700\n",
      "Epoch 3/10\n",
      "1875/1875 [==============================] - 5s 3ms/step - loss: 0.0764 - accuracy: 0.9760 - val_loss: 0.0972 - val_accuracy: 0.9713\n",
      "Epoch 4/10\n",
      "1875/1875 [==============================] - 5s 3ms/step - loss: 0.0748 - accuracy: 0.9765 - val_loss: 0.0829 - val_accuracy: 0.9756\n",
      "Epoch 5/10\n",
      "1875/1875 [==============================] - 5s 3ms/step - loss: 0.0690 - accuracy: 0.9780 - val_loss: 0.0879 - val_accuracy: 0.9747\n",
      "Epoch 6/10\n",
      "1875/1875 [==============================] - 5s 3ms/step - loss: 0.0645 - accuracy: 0.9799 - val_loss: 0.0880 - val_accuracy: 0.9747\n",
      "Epoch 7/10\n",
      "1875/1875 [==============================] - 5s 2ms/step - loss: 0.0631 - accuracy: 0.9799 - val_loss: 0.0822 - val_accuracy: 0.9772\n",
      "Epoch 8/10\n",
      "1875/1875 [==============================] - 5s 2ms/step - loss: 0.0589 - accuracy: 0.9808 - val_loss: 0.0833 - val_accuracy: 0.9774\n",
      "Epoch 9/10\n",
      "1875/1875 [==============================] - 5s 3ms/step - loss: 0.0581 - accuracy: 0.9820 - val_loss: 0.0914 - val_accuracy: 0.9737\n",
      "Epoch 10/10\n",
      "1875/1875 [==============================] - 5s 3ms/step - loss: 0.0548 - accuracy: 0.9820 - val_loss: 0.0925 - val_accuracy: 0.9728\n"
     ]
    }
   ],
   "source": [
    "history = model.fit(x_train, y_train, epochs=10, batch_size=32, validation_data=(x_test, y_test))"
   ]
  },
  {
   "cell_type": "markdown",
   "id": "40763e51",
   "metadata": {},
   "source": [
    "# Evaluate the model"
   ]
  },
  {
   "cell_type": "code",
   "execution_count": 18,
   "id": "6f2bb614",
   "metadata": {},
   "outputs": [
    {
     "name": "stdout",
     "output_type": "stream",
     "text": [
      "1875/1875 [==============================] - 3s 2ms/step - loss: 0.0326 - accuracy: 0.9898\n",
      "313/313 [==============================] - 1s 2ms/step - loss: 0.0925 - accuracy: 0.9728\n",
      "Train Accuracy:\t 0.9898166656494141\n",
      "\n",
      "Test Accuracy:\t 0.9728000164031982\n"
     ]
    }
   ],
   "source": [
    "_,train_acc=model.evaluate(x_train,y_train,verbose=1)\n",
    "_,test_acc=model.evaluate(x_test,y_test,verbose=1)\n",
    "print('Train Accuracy:\\t',train_acc)\n",
    "print()\n",
    "print('Test Accuracy:\\t',test_acc)"
   ]
  },
  {
   "cell_type": "markdown",
   "id": "d5036cb4",
   "metadata": {},
   "source": [
    "# Plot the Results"
   ]
  },
  {
   "cell_type": "code",
   "execution_count": 19,
   "id": "aca46e9f",
   "metadata": {},
   "outputs": [
    {
     "data": {
      "image/png": "[encoded data removed]",
      "text/plain": [
       "<Figure size 640x480 with 1 Axes>"
      ]
     },
     "metadata": {},
     "output_type": "display_data"
    }
   ],
   "source": [
    "pyplot.plot(history.history['accuracy'],label='train')\n",
    "pyplot.plot(history.history['val_accuracy'],label='test')\n",
    "pyplot.legend()\n",
    "pyplot.show()\n"
   ]
  },
  {
   "cell_type": "code",
   "execution_count": null,
   "id": "2dd6bd15",
   "metadata": {},
   "outputs": [],
   "source": []
  }
 ],
 "metadata": {
  "kernelspec": {
   "display_name": "Python 3 (ipykernel)",
   "language": "python",
   "name": "python3"
  },
  "language_info": {
   "codemirror_mode": {
    "name": "ipython",
    "version": 3
   },
   "file_extension": ".py",
   "mimetype": "text/x-python",
   "name": "python",
   "nbconvert_exporter": "python",
   "pygments_lexer": "ipython3",
   "version": "3.11.4"
  }
 },
 "nbformat": 4,
 "nbformat_minor": 5
}
