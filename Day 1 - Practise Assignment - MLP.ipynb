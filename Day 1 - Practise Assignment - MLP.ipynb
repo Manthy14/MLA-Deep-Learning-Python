{
 "cells": [
  {
   "cell_type": "markdown",
   "id": "6bc081bb",
   "metadata": {},
   "source": [
    "# Feed Forward Neural Network"
   ]
  },
  {
   "cell_type": "code",
   "execution_count": 1,
   "id": "64e4ee49",
   "metadata": {},
   "outputs": [],
   "source": [
    "from IPython.display import Image\n",
    "%matplotlib inline"
   ]
  },
  {
   "cell_type": "code",
   "execution_count": 3,
   "id": "f3908c63",
   "metadata": {},
   "outputs": [],
   "source": [
    "#Image(filename= 'Insert your image file')"
   ]
  },
  {
   "cell_type": "markdown",
   "id": "1cc79a9f",
   "metadata": {},
   "source": [
    "# Activating neural network via forward propagation"
   ]
  },
  {
   "cell_type": "code",
   "execution_count": 6,
   "id": "2a546188",
   "metadata": {},
   "outputs": [],
   "source": [
    "# insert filename sigmoid function\n",
    "#Image(filename = 'Sigmoid file')"
   ]
  },
  {
   "cell_type": "markdown",
   "id": "af733415",
   "metadata": {},
   "source": [
    "# Implement a multilayer perceptron - Practise Assignments"
   ]
  },
  {
   "cell_type": "code",
   "execution_count": 14,
   "id": "35f5da93",
   "metadata": {},
   "outputs": [],
   "source": [
    "import numpy as np\n",
    "import sys\n",
    "import random"
   ]
  },
  {
   "cell_type": "code",
   "execution_count": 17,
   "id": "1a968031",
   "metadata": {},
   "outputs": [],
   "source": [
    "class NeuralNetworkMLP:\n",
    "    def __init__(self, input_layer_size, hidden_layer_size, output_layer_size):\n",
    "        \n",
    "        random.seed(2)\n",
    "\n",
    "        # Initialize weights and biases for the hidden and output layers\n",
    "        self.synaptic_weights_hidden = 2 * np.random.rand(input_layer_size, hidden_layer_size) - 1\n",
    "        self.bias_hidden = np.zeros((1, hidden_layer_size))\n",
    "\n",
    "        self.synaptic_weights_output = 2 * np.random.rand(hidden_layer_size, output_layer_size) - 1\n",
    "        self.bias_output = np.zeros((1, output_layer_size))\n",
    "\n",
    "    def __sigmoid(self, x):\n",
    "        return 1 / (1 + np.exp(-x))\n",
    "\n",
    "    def __sigmoid_derivative(self, x):\n",
    "        return x * (1 - x)\n",
    "\n",
    "    def think(self, inputs):\n",
    "        # Forward pass through the hidden layer\n",
    "        hidden_layer_output = self.__sigmoid(np.dot(inputs, self.synaptic_weights_hidden) + self.bias_hidden)\n",
    "\n",
    "        # Forward pass through the output layer\n",
    "        output_layer_output = self.__sigmoid(np.dot(hidden_layer_output, self.synaptic_weights_output) + self.bias_output)\n",
    "\n",
    "        return output_layer_output\n",
    "\n",
    "    def train(self, training_set_inputs, training_set_outputs, number_of_training_iterations, learning_rate):\n",
    "        for iteration in range(number_of_training_iterations):\n",
    "            # Forward pass\n",
    "            hidden_layer_input = np.dot(training_set_inputs, self.synaptic_weights_hidden) + self.bias_hidden\n",
    "            hidden_layer_output = self.__sigmoid(hidden_layer_input)\n",
    "\n",
    "            output_layer_input = np.dot(hidden_layer_output, self.synaptic_weights_output) + self.bias_output\n",
    "            output_layer_output = self.__sigmoid(output_layer_input)\n",
    "\n",
    "            # Calculate the error\n",
    "            output_error = training_set_outputs - output_layer_output\n",
    "\n",
    "            # Backpropagation\n",
    "            output_delta = output_error * self.__sigmoid_derivative(output_layer_output)\n",
    "            hidden_layer_error = output_delta.dot(self.synaptic_weights_output.T)\n",
    "            hidden_layer_delta = hidden_layer_error * self.__sigmoid_derivative(hidden_layer_output)\n",
    "\n",
    "            # Update weights and biases\n",
    "            self.synaptic_weights_output += hidden_layer_output.T.dot(output_delta) * learning_rate\n",
    "            self.bias_output += np.sum(output_delta, axis=0) * learning_rate\n",
    "            self.synaptic_weights_hidden += training_set_inputs.T.dot(hidden_layer_delta) * learning_rate\n",
    "            self.bias_hidden += np.sum(hidden_layer_delta, axis=0) * learning_rate\n"
   ]
  },
  {
   "cell_type": "code",
   "execution_count": 19,
   "id": "76263594",
   "metadata": {},
   "outputs": [
    {
     "name": "stdout",
     "output_type": "stream",
     "text": [
      "Random Starting weights (Hidden Layer):\n",
      "\n",
      "[[-0.79744261  0.90359041  0.88129852 -0.56021557]\n",
      " [-0.29004125 -0.73481718  0.45455351  0.14748982]\n",
      " [ 0.71136919  0.20453537  0.6954095   0.79829877]]\n",
      "Random Starting weights (Output Layer):\n",
      "\n",
      "[[ 0.54023184]\n",
      " [ 0.53811349]\n",
      " [-0.91500138]\n",
      " [-0.70605316]]\n"
     ]
    }
   ],
   "source": [
    "if __name__ == '__main__':\n",
    "    input_layer_size = 3\n",
    "    hidden_layer_size = 4\n",
    "    output_layer_size = 1\n",
    "\n",
    "    neural_network_mlp = NeuralNetworkMLP(input_layer_size, hidden_layer_size, output_layer_size)\n",
    "    \n",
    "    print('Random Starting weights (Hidden Layer):\\n')\n",
    "    print(neural_network_mlp.synaptic_weights_hidden)\n",
    "    \n",
    "    print('Random Starting weights (Output Layer):\\n')\n",
    "    print(neural_network_mlp.synaptic_weights_output)\n",
    "    \n",
    "    training_set_inputs = np.array([[0, 0, 1], [1, 1, 1], [1, 0, 1], [0, 1, 1]])\n",
    "    training_set_outputs = np.array([[0, 1, 1, 0]]).T\n",
    "    \n",
    "    learning_rate = 0.1\n",
    "    num_training_iterations = 10000\n"
   ]
  },
  {
   "cell_type": "code",
   "execution_count": 21,
   "id": "08233061",
   "metadata": {},
   "outputs": [
    {
     "name": "stdout",
     "output_type": "stream",
     "text": [
      "*********************** Neural Network Training Phase ***********************\n",
      "New Weights after Training (Hidden Layer):\n",
      "\n",
      "[[-1.24176650e+00  4.34569817e+00  5.30007552e-01 -4.18182855e+00]\n",
      " [-3.29772354e-01 -3.05291163e-01  4.99514010e-01 -4.31398838e-03]\n",
      " [ 7.10302936e-01 -8.23490529e-01  8.75412291e-01  1.36734613e+00]]\n",
      "New Weights after Training (Output Layer):\n",
      "\n",
      "[[-1.1493899 ]\n",
      " [ 5.46607871]\n",
      " [ 0.18879108]\n",
      " [-5.24033116]]\n",
      "\n",
      "Considering the new situation [1, 0, 0] --> ?:\n",
      "[0.99406383]\n"
     ]
    }
   ],
   "source": [
    "# Train the network\n",
    "print('*' * 23 + ' Neural Network Training Phase ' + '*' * 23)\n",
    "neural_network_mlp.train(training_set_inputs, training_set_outputs, num_training_iterations, learning_rate)\n",
    "print('New Weights after Training (Hidden Layer):\\n')\n",
    "print(neural_network_mlp.synaptic_weights_hidden)\n",
    "print('New Weights after Training (Output Layer):\\n')\n",
    "print(neural_network_mlp.synaptic_weights_output)\n",
    "print()\n",
    "\n",
    "# Test the network\n",
    "new_input = np.array([1, 0, 0])\n",
    "print('Considering the new situation [1, 0, 0] --> ?:')\n",
    "output = neural_network_mlp.think(new_input)\n",
    "print(output[0])\n"
   ]
  },
  {
   "cell_type": "code",
   "execution_count": null,
   "id": "eb674cbc",
   "metadata": {},
   "outputs": [],
   "source": []
  }
 ],
 "metadata": {
  "kernelspec": {
   "display_name": "Python 3 (ipykernel)",
   "language": "python",
   "name": "python3"
  },
  "language_info": {
   "codemirror_mode": {
    "name": "ipython",
    "version": 3
   },
   "file_extension": ".py",
   "mimetype": "text/x-python",
   "name": "python",
   "nbconvert_exporter": "python",
   "pygments_lexer": "ipython3",
   "version": "3.11.4"
  }
 },
 "nbformat": 4,
 "nbformat_minor": 5
}
