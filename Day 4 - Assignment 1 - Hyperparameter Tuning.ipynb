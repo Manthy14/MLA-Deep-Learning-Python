{
 "cells": [
  {
   "cell_type": "code",
   "execution_count": 1,
   "id": "d2a3a6f6",
   "metadata": {},
   "outputs": [],
   "source": [
    "import numpy as np\n",
    "from tensorflow import keras\n",
    "from tensorflow.keras.utils import to_categorical\n",
    "from tensorflow.keras.optimizers import Adam\n",
    "from tensorflow.keras import layers\n",
    "from tensorflow.keras.datasets import fashion_mnist\n",
    "from keras_tuner import RandomSearch"
   ]
  },
  {
   "cell_type": "code",
   "execution_count": 2,
   "id": "acd8fb4a",
   "metadata": {},
   "outputs": [],
   "source": [
    "Trails=3 # Number of models to train\n",
    "epochs=2 # number of epoch per model"
   ]
  },
  {
   "cell_type": "code",
   "execution_count": 3,
   "id": "0d69a54d",
   "metadata": {},
   "outputs": [],
   "source": [
    "(xtrain,ytrain),(xval,yval)=fashion_mnist.load_data()\n",
    "xtrain=np.expand_dims(xtrain.astype('float32')/255.,-1)\n",
    "xval=np.expand_dims(xval.astype('float32')/255.,-1)\n",
    "ytrain=to_categorical(ytrain,10)\n",
    "yval=to_categorical(yval,10)"
   ]
  },
  {
   "cell_type": "code",
   "execution_count": 4,
   "id": "593adce2",
   "metadata": {},
   "outputs": [],
   "source": [
    "from tensorflow.keras import layers\n",
    "from tensorflow.keras.optimizers import Adam\n",
    "from tensorflow import keras\n",
    "from keras_tuner.tuners import RandomSearch\n",
    "\n",
    "def build_model(hp):\n",
    "    \"\"\"\n",
    "    Function to build a TF model based on hyperparameter values\n",
    "    Args:\n",
    "        hp (hyperparameter): values\n",
    "\n",
    "    Returns:\n",
    "        Model: compiled model\n",
    "    \"\"\"\n",
    "    num_layers = hp.Int('num_layers', 2, 8, default=6)\n",
    "    lr = hp.Choice('learning_rate', [0.0001, 0.05])\n",
    "    inputs = layers.Input(shape=(28, 28, 1))\n",
    "    x = inputs\n",
    "    for idx in range(num_layers):\n",
    "        idx_str = str(idx)\n",
    "\n",
    "        filters = hp.Int('filters_' + idx_str, 32, 256, step=32, default=64)\n",
    "        x = layers.Conv2D(filters=filters, kernel_size=3, padding='same', activation='relu')(x)\n",
    "\n",
    "        if x.shape[1] >= 8:\n",
    "            pool_type = hp.Choice('pool_' + idx_str, values=['max', 'avg'])\n",
    "            if pool_type == 'max':\n",
    "                x = layers.MaxPooling2D(2)(x)\n",
    "            elif pool_type == 'avg':\n",
    "                x = layers.AveragePooling2D(2)(x)\n",
    "\n",
    "    x = layers.Flatten()(x)\n",
    "    outputs = layers.Dense(10, activation='softmax')(x)\n",
    "\n",
    "    # Build model\n",
    "    model = keras.Model(inputs, outputs)\n",
    "    model.compile(optimizer=Adam(lr), loss='categorical_crossentropy', metrics=['accuracy'])\n",
    "    return model"
   ]
  },
  {
   "cell_type": "code",
   "execution_count": 6,
   "id": "95626a6a",
   "metadata": {},
   "outputs": [],
   "source": [
    "tuner = RandomSearch(build_model, objective='val_accuracy', max_trials=Trails, project_name='Fashion_MNIST_results/')"
   ]
  },
  {
   "cell_type": "code",
   "execution_count": 7,
   "id": "07e85cd9",
   "metadata": {},
   "outputs": [
    {
     "name": "stdout",
     "output_type": "stream",
     "text": [
      "Search space summary\n",
      "Default search space size: 10\n",
      "num_layers (Int)\n",
      "{'default': 6, 'conditions': [], 'min_value': 2, 'max_value': 8, 'step': 1, 'sampling': 'linear'}\n",
      "learning_rate (Choice)\n",
      "{'default': 0.0001, 'conditions': [], 'values': [0.0001, 0.05], 'ordered': True}\n",
      "filters_0 (Int)\n",
      "{'default': 64, 'conditions': [], 'min_value': 32, 'max_value': 256, 'step': 32, 'sampling': 'linear'}\n",
      "pool_0 (Choice)\n",
      "{'default': 'max', 'conditions': [], 'values': ['max', 'avg'], 'ordered': False}\n",
      "filters_1 (Int)\n",
      "{'default': 64, 'conditions': [], 'min_value': 32, 'max_value': 256, 'step': 32, 'sampling': 'linear'}\n",
      "pool_1 (Choice)\n",
      "{'default': 'max', 'conditions': [], 'values': ['max', 'avg'], 'ordered': False}\n",
      "filters_2 (Int)\n",
      "{'default': 64, 'conditions': [], 'min_value': 32, 'max_value': 256, 'step': 32, 'sampling': 'linear'}\n",
      "filters_3 (Int)\n",
      "{'default': 64, 'conditions': [], 'min_value': 32, 'max_value': 256, 'step': 32, 'sampling': 'linear'}\n",
      "filters_4 (Int)\n",
      "{'default': 64, 'conditions': [], 'min_value': 32, 'max_value': 256, 'step': 32, 'sampling': 'linear'}\n",
      "filters_5 (Int)\n",
      "{'default': 64, 'conditions': [], 'min_value': 32, 'max_value': 256, 'step': 32, 'sampling': 'linear'}\n"
     ]
    }
   ],
   "source": [
    "tuner.search_space_summary()"
   ]
  },
  {
   "cell_type": "code",
   "execution_count": 8,
   "id": "bf5858dd",
   "metadata": {},
   "outputs": [
    {
     "data": {
      "text/plain": [
       "<bound method BaseTuner.search_space_summary of <keras_tuner.src.tuners.randomsearch.RandomSearch object at 0x0000014C9DAFB150>>"
      ]
     },
     "execution_count": 8,
     "metadata": {},
     "output_type": "execute_result"
    }
   ],
   "source": [
    "tuner.search_space_summary"
   ]
  },
  {
   "cell_type": "code",
   "execution_count": 9,
   "id": "3a03a17c",
   "metadata": {},
   "outputs": [
    {
     "name": "stdout",
     "output_type": "stream",
     "text": [
      "Trial 3 Complete [00h 03m 29s]\n",
      "val_accuracy: 0.8438000082969666\n",
      "\n",
      "Best val_accuracy So Far: 0.8511999845504761\n",
      "Total elapsed time: 00h 09m 08s\n"
     ]
    }
   ],
   "source": [
    "tuner.search(xtrain, ytrain, batch_size=128, epochs=2, validation_data=(xval, yval))"
   ]
  },
  {
   "cell_type": "code",
   "execution_count": 10,
   "id": "7d147c54",
   "metadata": {},
   "outputs": [
    {
     "name": "stdout",
     "output_type": "stream",
     "text": [
      "Results summary\n",
      "Results in .\\Fashion_MNIST_results/\n",
      "Showing 10 best trials\n",
      "Objective(name=\"val_accuracy\", direction=\"max\")\n",
      "\n",
      "Trial 0 summary\n",
      "Hyperparameters:\n",
      "num_layers: 3\n",
      "learning_rate: 0.0001\n",
      "filters_0: 224\n",
      "pool_0: avg\n",
      "filters_1: 128\n",
      "pool_1: max\n",
      "filters_2: 256\n",
      "filters_3: 224\n",
      "filters_4: 96\n",
      "filters_5: 160\n",
      "Score: 0.8511999845504761\n",
      "\n",
      "Trial 2 summary\n",
      "Hyperparameters:\n",
      "num_layers: 8\n",
      "learning_rate: 0.0001\n",
      "filters_0: 32\n",
      "pool_0: avg\n",
      "filters_1: 224\n",
      "pool_1: max\n",
      "filters_2: 128\n",
      "filters_3: 160\n",
      "filters_4: 224\n",
      "filters_5: 64\n",
      "filters_6: 64\n",
      "filters_7: 64\n",
      "Score: 0.8438000082969666\n",
      "\n",
      "Trial 1 summary\n",
      "Hyperparameters:\n",
      "num_layers: 3\n",
      "learning_rate: 0.0001\n",
      "filters_0: 64\n",
      "pool_0: avg\n",
      "filters_1: 32\n",
      "pool_1: avg\n",
      "filters_2: 96\n",
      "filters_3: 160\n",
      "filters_4: 256\n",
      "filters_5: 96\n",
      "Score: 0.8019000291824341\n"
     ]
    }
   ],
   "source": [
    "tuner.results_summary()"
   ]
  },
  {
   "cell_type": "code",
   "execution_count": 11,
   "id": "d8c1d05f",
   "metadata": {},
   "outputs": [
    {
     "name": "stdout",
     "output_type": "stream",
     "text": [
      "Model: \"model\"\n",
      "_________________________________________________________________\n",
      " Layer (type)                Output Shape              Param #   \n",
      "=================================================================\n",
      " input_1 (InputLayer)        [(None, 28, 28, 1)]       0         \n",
      "                                                                 \n",
      " conv2d (Conv2D)             (None, 28, 28, 224)       2240      \n",
      "                                                                 \n",
      " average_pooling2d (Average  (None, 14, 14, 224)       0         \n",
      " Pooling2D)                                                      \n",
      "                                                                 \n",
      " conv2d_1 (Conv2D)           (None, 14, 14, 128)       258176    \n",
      "                                                                 \n",
      " max_pooling2d (MaxPooling2  (None, 7, 7, 128)         0         \n",
      " D)                                                              \n",
      "                                                                 \n",
      " conv2d_2 (Conv2D)           (None, 7, 7, 256)         295168    \n",
      "                                                                 \n",
      " flatten (Flatten)           (None, 12544)             0         \n",
      "                                                                 \n",
      " dense (Dense)               (None, 10)                125450    \n",
      "                                                                 \n",
      "=================================================================\n",
      "Total params: 681034 (2.60 MB)\n",
      "Trainable params: 681034 (2.60 MB)\n",
      "Non-trainable params: 0 (0.00 Byte)\n",
      "_________________________________________________________________\n"
     ]
    }
   ],
   "source": [
    "best_model=tuner.get_best_models(num_models=1)[0]\n",
    "best_model.summary()"
   ]
  },
  {
   "cell_type": "code",
   "execution_count": null,
   "id": "0d2d285e",
   "metadata": {},
   "outputs": [],
   "source": []
  }
 ],
 "metadata": {
  "kernelspec": {
   "display_name": "Python 3 (ipykernel)",
   "language": "python",
   "name": "python3"
  },
  "language_info": {
   "codemirror_mode": {
    "name": "ipython",
    "version": 3
   },
   "file_extension": ".py",
   "mimetype": "text/x-python",
   "name": "python",
   "nbconvert_exporter": "python",
   "pygments_lexer": "ipython3",
   "version": "3.11.4"
  }
 },
 "nbformat": 4,
 "nbformat_minor": 5
}
