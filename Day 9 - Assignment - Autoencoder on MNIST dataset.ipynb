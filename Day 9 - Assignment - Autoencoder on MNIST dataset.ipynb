{
 "cells": [
  {
   "cell_type": "code",
   "execution_count": 1,
   "id": "5b5cd260",
   "metadata": {},
   "outputs": [
    {
     "name": "stdout",
     "output_type": "stream",
     "text": [
      "Epoch 1/10\n",
      "235/235 [==============================] - 43s 180ms/step - loss: 0.1860 - val_loss: 0.0686\n",
      "Epoch 2/10\n",
      "235/235 [==============================] - 40s 172ms/step - loss: 0.0633 - val_loss: 0.0598\n",
      "Epoch 3/10\n",
      "235/235 [==============================] - 37s 158ms/step - loss: 0.0596 - val_loss: 0.0591\n",
      "Epoch 4/10\n",
      "235/235 [==============================] - 37s 159ms/step - loss: 0.0592 - val_loss: 0.0587\n",
      "Epoch 5/10\n",
      "235/235 [==============================] - 37s 158ms/step - loss: 0.0590 - val_loss: 0.0586\n",
      "Epoch 6/10\n",
      "235/235 [==============================] - 38s 160ms/step - loss: 0.0589 - val_loss: 0.0585\n",
      "Epoch 7/10\n",
      "235/235 [==============================] - 37s 159ms/step - loss: 0.0588 - val_loss: 0.0585\n",
      "Epoch 8/10\n",
      "235/235 [==============================] - 37s 159ms/step - loss: 0.0588 - val_loss: 0.0584\n",
      "Epoch 9/10\n",
      "235/235 [==============================] - 39s 167ms/step - loss: 0.0587 - val_loss: 0.0584\n",
      "Epoch 10/10\n",
      "235/235 [==============================] - 39s 166ms/step - loss: 0.0587 - val_loss: 0.0584\n",
      "313/313 [==============================] - 3s 10ms/step\n",
      "313/313 [==============================] - 3s 10ms/step\n"
     ]
    },
    {
     "data": {
      "image/png": "[encoded data removed]",
      "text/plain": [
       "<Figure size 2000x400 with 20 Axes>"
      ]
     },
     "metadata": {},
     "output_type": "display_data"
    }
   ],
   "source": [
    "import tensorflow as tf\n",
    "from tensorflow.keras.layers import Input, Dense\n",
    "from tensorflow.keras.models import Model\n",
    "from tensorflow.keras.datasets import mnist\n",
    "import matplotlib.pyplot as plt\n",
    "\n",
    "# Load and preprocess the MNIST dataset\n",
    "(x_train, _), (x_test, _) = mnist.load_data()\n",
    "x_train = x_train.astype('float32') / 255.0\n",
    "x_test = x_test.astype('float32') / 255.0\n",
    "x_train = x_train.reshape((len(x_train), 28, 28, 1))\n",
    "x_test = x_test.reshape((len(x_test), 28, 28, 1))\n",
    "\n",
    "# Define the autoencoder architecture\n",
    "input_img = Input(shape=(28, 28, 1))\n",
    "encoded = Dense(64, activation='relu')(input_img)\n",
    "encoded = Dense(32, activation='relu')(encoded)\n",
    "encoded = Dense(16, activation='relu')(encoded)\n",
    "\n",
    "decoded = Dense(32, activation='relu')(encoded)\n",
    "decoded = Dense(64, activation='relu')(decoded)\n",
    "decoded = Dense(1, activation='sigmoid')(decoded)\n",
    "\n",
    "autoencoder = Model(input_img, decoded)\n",
    "\n",
    "# Compile the autoencoder\n",
    "autoencoder.compile(optimizer='adam', loss='binary_crossentropy')\n",
    "\n",
    "# Train the autoencoder\n",
    "autoencoder.fit(x_train, x_train, epochs=10, batch_size=256, shuffle=True, validation_data=(x_test, x_test))\n",
    "\n",
    "# Encode and decode some digits from the test set\n",
    "encoded_imgs = autoencoder.predict(x_test)\n",
    "decoded_imgs = autoencoder.predict(x_test)\n",
    "\n",
    "# Plot the results\n",
    "n = 10\n",
    "plt.figure(figsize=(20, 4))\n",
    "for i in range(n):\n",
    "    # Display original images\n",
    "    ax = plt.subplot(2, n, i + 1)\n",
    "    plt.imshow(x_test[i].reshape(28, 28))\n",
    "    plt.gray()\n",
    "    ax.get_xaxis().set_visible(False)\n",
    "    ax.get_yaxis().set_visible(False)\n",
    "\n",
    "    # Display reconstructed images\n",
    "    ax = plt.subplot(2, n, i + 1 + n)\n",
    "    plt.imshow(decoded_imgs[i].reshape(28, 28))\n",
    "    plt.gray()\n",
    "    ax.get_xaxis().set_visible(False)\n",
    "    ax.get_yaxis().set_visible(False)\n",
    "plt.show()\n"
   ]
  },
  {
   "cell_type": "code",
   "execution_count": null,
   "id": "9e573c99",
   "metadata": {},
   "outputs": [],
   "source": []
  }
 ],
 "metadata": {
  "kernelspec": {
   "display_name": "Python 3 (ipykernel)",
   "language": "python",
   "name": "python3"
  },
  "language_info": {
   "codemirror_mode": {
    "name": "ipython",
    "version": 3
   },
   "file_extension": ".py",
   "mimetype": "text/x-python",
   "name": "python",
   "nbconvert_exporter": "python",
   "pygments_lexer": "ipython3",
   "version": "3.11.4"
  }
 },
 "nbformat": 4,
 "nbformat_minor": 5
}
