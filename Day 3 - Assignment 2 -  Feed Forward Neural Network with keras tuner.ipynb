{
 "cells": [
  {
   "cell_type": "markdown",
   "id": "121918b1",
   "metadata": {},
   "source": [
    "# Import Important Libraries"
   ]
  },
  {
   "cell_type": "code",
   "execution_count": 17,
   "id": "1bfd9e0b",
   "metadata": {},
   "outputs": [],
   "source": [
    "from keras.datasets import fashion_mnist\n",
    "from tensorflow.keras import layers\n",
    "from tensorflow import keras\n",
    "import kerastuner\n",
    "from kerastuner.tuners import RandomSearch\n",
    "from matplotlib import pyplot\n",
    "import matplotlib.pyplot as plt"
   ]
  },
  {
   "cell_type": "markdown",
   "id": "b64a2306",
   "metadata": {},
   "source": [
    "# Load the dataset - fashion_mnist"
   ]
  },
  {
   "cell_type": "code",
   "execution_count": 5,
   "id": "df096dd9",
   "metadata": {},
   "outputs": [
    {
     "name": "stdout",
     "output_type": "stream",
     "text": [
      "Downloading data from https://storage.googleapis.com/tensorflow/tf-keras-datasets/train-labels-idx1-ubyte.gz\n",
      "29515/29515 [==============================] - 0s 0us/step\n",
      "Downloading data from https://storage.googleapis.com/tensorflow/tf-keras-datasets/train-images-idx3-ubyte.gz\n",
      "26421880/26421880 [==============================] - 3s 0us/step\n",
      "Downloading data from https://storage.googleapis.com/tensorflow/tf-keras-datasets/t10k-labels-idx1-ubyte.gz\n",
      "5148/5148 [==============================] - 0s 0s/step\n",
      "Downloading data from https://storage.googleapis.com/tensorflow/tf-keras-datasets/t10k-images-idx3-ubyte.gz\n",
      "4422102/4422102 [==============================] - 0s 0us/step\n"
     ]
    }
   ],
   "source": [
    "(x_train, y_train), (x_test, y_test) = fashion_mnist.load_data()"
   ]
  },
  {
   "cell_type": "markdown",
   "id": "40c0a5e7",
   "metadata": {},
   "source": [
    "# Normalize pixel values to be between 0 & 1"
   ]
  },
  {
   "cell_type": "code",
   "execution_count": 6,
   "id": "03403e6a",
   "metadata": {},
   "outputs": [],
   "source": [
    "x_train, x_test = x_train / 255.0, x_test / 255.0"
   ]
  },
  {
   "cell_type": "markdown",
   "id": "882fdc61",
   "metadata": {},
   "source": [
    "# Build the model"
   ]
  },
  {
   "cell_type": "code",
   "execution_count": 7,
   "id": "03a6586b",
   "metadata": {},
   "outputs": [],
   "source": [
    "def build_model(hp):\n",
    "    model = keras.Sequential()\n",
    "\n",
    "    # Flatten the input layer\n",
    "    model.add(layers.Flatten(input_shape=(28, 28)))\n",
    "\n",
    "    # Tune the number of units in the first Dense layer\n",
    "    hp_units = hp.Int('units', min_value=32, max_value=512, step=32)\n",
    "    model.add(layers.Dense(units=hp_units, activation='relu'))\n",
    "    \n",
    "    # Tune the number of Dense layers\n",
    "    hp_layers = hp.Int('layers', min_value=1, max_value=3, step=1)\n",
    "    for _ in range(hp_layers):\n",
    "        model.add(layers.Dense(units=hp_units, activation='relu'))\n",
    "\n",
    "    # Output layer\n",
    "    model.add(layers.Dense(10, activation='softmax'))\n",
    "    \n",
    "    # Compile the model\n",
    "    model.compile(optimizer='adam',\n",
    "                  loss='sparse_categorical_crossentropy',\n",
    "                  metrics=['accuracy'])\n",
    "\n",
    "    return model"
   ]
  },
  {
   "cell_type": "markdown",
   "id": "57c494a6",
   "metadata": {},
   "source": [
    "# Initiate the tuner"
   ]
  },
  {
   "cell_type": "code",
   "execution_count": 9,
   "id": "2e156ed1",
   "metadata": {},
   "outputs": [],
   "source": [
    "tuner = RandomSearch(\n",
    "    build_model,\n",
    "    objective='val_accuracy',\n",
    "    max_trials=5,  # Number of hyperparameter combinations to try\n",
    "    executions_per_trial=3,  # Number of models to train per trial\n",
    "    directory='my_tuner_dir',  # Directory to save the tuning results\n",
    "    project_name='fashion_mnist_tuning'\n",
    ")"
   ]
  },
  {
   "cell_type": "markdown",
   "id": "dc08d28c",
   "metadata": {},
   "source": [
    "# Perform the hyperparameter search"
   ]
  },
  {
   "cell_type": "code",
   "execution_count": 10,
   "id": "b9e1f80f",
   "metadata": {},
   "outputs": [
    {
     "name": "stdout",
     "output_type": "stream",
     "text": [
      "Trial 5 Complete [00h 02m 40s]\n",
      "val_accuracy: 0.8706666827201843\n",
      "\n",
      "Best val_accuracy So Far: 0.878766655921936\n",
      "Total elapsed time: 00h 17m 43s\n"
     ]
    }
   ],
   "source": [
    "tuner.search(x_train, y_train, epochs=5, validation_data=(x_test, y_test))"
   ]
  },
  {
   "cell_type": "markdown",
   "id": "a7a8965d",
   "metadata": {},
   "source": [
    "# Get the best hyperparameters"
   ]
  },
  {
   "cell_type": "code",
   "execution_count": 11,
   "id": "90278bf8",
   "metadata": {},
   "outputs": [],
   "source": [
    "best_hps = tuner.get_best_hyperparameters(num_trials=1)[0]"
   ]
  },
  {
   "cell_type": "markdown",
   "id": "439a3e80",
   "metadata": {},
   "source": [
    "# Build the model with the best hyperparameters"
   ]
  },
  {
   "cell_type": "code",
   "execution_count": 12,
   "id": "d7c7963c",
   "metadata": {},
   "outputs": [],
   "source": [
    "model = tuner.hypermodel.build(best_hps)"
   ]
  },
  {
   "cell_type": "markdown",
   "id": "c44316aa",
   "metadata": {},
   "source": [
    "# Train the final model"
   ]
  },
  {
   "cell_type": "code",
   "execution_count": 13,
   "id": "5832dde7",
   "metadata": {},
   "outputs": [
    {
     "name": "stdout",
     "output_type": "stream",
     "text": [
      "Epoch 1/10\n",
      "1875/1875 [==============================] - 9s 5ms/step - loss: 0.4726 - accuracy: 0.8277 - val_loss: 0.3981 - val_accuracy: 0.8555\n",
      "Epoch 2/10\n",
      "1875/1875 [==============================] - 9s 5ms/step - loss: 0.3558 - accuracy: 0.8698 - val_loss: 0.3923 - val_accuracy: 0.8536\n",
      "Epoch 3/10\n",
      "1875/1875 [==============================] - 9s 5ms/step - loss: 0.3211 - accuracy: 0.8809 - val_loss: 0.3758 - val_accuracy: 0.8660\n",
      "Epoch 4/10\n",
      "1875/1875 [==============================] - 8s 5ms/step - loss: 0.2978 - accuracy: 0.8890 - val_loss: 0.3624 - val_accuracy: 0.8684\n",
      "Epoch 5/10\n",
      "1875/1875 [==============================] - 8s 4ms/step - loss: 0.2788 - accuracy: 0.8957 - val_loss: 0.3342 - val_accuracy: 0.8816\n",
      "Epoch 6/10\n",
      "1875/1875 [==============================] - 8s 4ms/step - loss: 0.2643 - accuracy: 0.8999 - val_loss: 0.3296 - val_accuracy: 0.8828\n",
      "Epoch 7/10\n",
      "1875/1875 [==============================] - 8s 5ms/step - loss: 0.2503 - accuracy: 0.9044 - val_loss: 0.3831 - val_accuracy: 0.8703\n",
      "Epoch 8/10\n",
      "1875/1875 [==============================] - 8s 5ms/step - loss: 0.2415 - accuracy: 0.9078 - val_loss: 0.3419 - val_accuracy: 0.8810\n",
      "Epoch 9/10\n",
      "1875/1875 [==============================] - 8s 4ms/step - loss: 0.2309 - accuracy: 0.9113 - val_loss: 0.3316 - val_accuracy: 0.8891\n",
      "Epoch 10/10\n",
      "1875/1875 [==============================] - 8s 5ms/step - loss: 0.2218 - accuracy: 0.9153 - val_loss: 0.3383 - val_accuracy: 0.8814\n"
     ]
    }
   ],
   "source": [
    "history = model.fit(x_train, y_train, epochs=10, validation_data=(x_test, y_test))"
   ]
  },
  {
   "cell_type": "markdown",
   "id": "6ddfcec0",
   "metadata": {},
   "source": [
    "# Evaluate the model"
   ]
  },
  {
   "cell_type": "code",
   "execution_count": 15,
   "id": "815dddd8",
   "metadata": {},
   "outputs": [
    {
     "name": "stdout",
     "output_type": "stream",
     "text": [
      "1875/1875 [==============================] - 5s 2ms/step - loss: 0.2207 - accuracy: 0.9189\n",
      "313/313 [==============================] - 1s 2ms/step - loss: 0.3383 - accuracy: 0.8814\n",
      "Train Accuracy:\t 0.9188833236694336\n",
      "\n",
      "Test Accuracy:\t 0.8813999891281128\n"
     ]
    }
   ],
   "source": [
    "_,train_acc=model.evaluate(x_train,y_train,verbose=1)\n",
    "_,test_acc=model.evaluate(x_test,y_test,verbose=1)\n",
    "print('Train Accuracy:\\t',train_acc)\n",
    "print()\n",
    "print('Test Accuracy:\\t',test_acc)"
   ]
  },
  {
   "cell_type": "markdown",
   "id": "828dc92b",
   "metadata": {},
   "source": [
    "# Plot the results"
   ]
  },
  {
   "cell_type": "code",
   "execution_count": 18,
   "id": "83e607c6",
   "metadata": {},
   "outputs": [
    {
     "data": {
      "image/png": "[encoded data removed]",
      "text/plain": [
       "<Figure size 640x480 with 1 Axes>"
      ]
     },
     "metadata": {},
     "output_type": "display_data"
    }
   ],
   "source": [
    "pyplot.plot(history.history['accuracy'],label='train')\n",
    "pyplot.plot(history.history['val_accuracy'],label='test')\n",
    "pyplot.legend()\n",
    "pyplot.show()\n"
   ]
  },
  {
   "cell_type": "code",
   "execution_count": null,
   "id": "c4c7959c",
   "metadata": {},
   "outputs": [],
   "source": []
  }
 ],
 "metadata": {
  "kernelspec": {
   "display_name": "Python 3 (ipykernel)",
   "language": "python",
   "name": "python3"
  },
  "language_info": {
   "codemirror_mode": {
    "name": "ipython",
    "version": 3
   },
   "file_extension": ".py",
   "mimetype": "text/x-python",
   "name": "python",
   "nbconvert_exporter": "python",
   "pygments_lexer": "ipython3",
   "version": "3.11.4"
  }
 },
 "nbformat": 4,
 "nbformat_minor": 5
}
