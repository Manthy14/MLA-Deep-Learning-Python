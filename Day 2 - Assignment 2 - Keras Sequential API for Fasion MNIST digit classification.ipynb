{
 "cells": [
  {
   "cell_type": "code",
   "execution_count": 1,
   "id": "1e0b5f79",
   "metadata": {},
   "outputs": [],
   "source": [
    "import keras\n",
    "from keras.datasets import fashion_mnist\n",
    "from keras.models import Sequential\n",
    "from keras.layers import Dense,Dropout\n",
    "from keras.optimizers import RMSprop"
   ]
  },
  {
   "cell_type": "code",
   "execution_count": 2,
   "id": "8c8a0b77",
   "metadata": {},
   "outputs": [],
   "source": [
    "batch_size = 128\n",
    "num_classes = 10\n",
    "epochs = 20"
   ]
  },
  {
   "cell_type": "code",
   "execution_count": 3,
   "id": "f31caa8c",
   "metadata": {},
   "outputs": [
    {
     "name": "stdout",
     "output_type": "stream",
     "text": [
      "Shape -x:\t (60000, 28, 28)\n",
      "Shape -y:\t (60000,)\n"
     ]
    }
   ],
   "source": [
    "(xtrain,ytrain),(xtest,ytest) = fashion_mnist.load_data()\n",
    "print('Shape -x:\\t',xtrain.shape)\n",
    "print('Shape -y:\\t',ytrain.shape)"
   ]
  },
  {
   "cell_type": "code",
   "execution_count": 4,
   "id": "269fcfbb",
   "metadata": {},
   "outputs": [
    {
     "name": "stdout",
     "output_type": "stream",
     "text": [
      "Shape -x:\t (60000, 784)\n",
      "Shape -y:\t (10000, 784)\n"
     ]
    }
   ],
   "source": [
    "xtrain = xtrain.reshape(60000,784)\n",
    "xtest = xtest.reshape(10000,784)\n",
    "print('Shape -x:\\t',xtrain.shape)\n",
    "print('Shape -y:\\t',xtest.shape)"
   ]
  },
  {
   "cell_type": "code",
   "execution_count": 5,
   "id": "7c3727f3",
   "metadata": {},
   "outputs": [],
   "source": [
    "xtrain = xtrain.astype('float32')\n",
    "xtest = xtest.astype('float32')"
   ]
  },
  {
   "cell_type": "code",
   "execution_count": 6,
   "id": "81c4a233",
   "metadata": {},
   "outputs": [],
   "source": [
    "xtrain = xtrain/255.\n",
    "xtest = xtest/255."
   ]
  },
  {
   "cell_type": "markdown",
   "id": "94107ec0",
   "metadata": {},
   "source": [
    "# Print the shape of data"
   ]
  },
  {
   "cell_type": "code",
   "execution_count": 7,
   "id": "33321f88",
   "metadata": {},
   "outputs": [
    {
     "name": "stdout",
     "output_type": "stream",
     "text": [
      "60000 train samples\n",
      "10000 test samples\n"
     ]
    }
   ],
   "source": [
    "print(xtrain.shape[0],'train samples')\n",
    "print(xtest.shape[0],'test samples')"
   ]
  },
  {
   "cell_type": "markdown",
   "id": "cf5d0e78",
   "metadata": {},
   "source": [
    "# Convert class vectors to binary class metrices"
   ]
  },
  {
   "cell_type": "code",
   "execution_count": 8,
   "id": "6db3d6cb",
   "metadata": {},
   "outputs": [],
   "source": [
    "import keras\n",
    "\n",
    "ytrain = keras.utils.to_categorical(ytrain,num_classes)\n",
    "ytest = keras.utils.to_categorical(ytest,num_classes)"
   ]
  },
  {
   "cell_type": "code",
   "execution_count": 9,
   "id": "6b36af13",
   "metadata": {},
   "outputs": [
    {
     "data": {
      "text/plain": [
       "(60000, 10)"
      ]
     },
     "execution_count": 9,
     "metadata": {},
     "output_type": "execute_result"
    }
   ],
   "source": [
    "ytrain.shape"
   ]
  },
  {
   "cell_type": "markdown",
   "id": "650959c4",
   "metadata": {},
   "source": [
    "# Sequential Model"
   ]
  },
  {
   "cell_type": "code",
   "execution_count": 10,
   "id": "d2de695d",
   "metadata": {},
   "outputs": [
    {
     "name": "stdout",
     "output_type": "stream",
     "text": [
      "Model: \"sequential\"\n",
      "_________________________________________________________________\n",
      " Layer (type)                Output Shape              Param #   \n",
      "=================================================================\n",
      " dense (Dense)               (None, 512)               401920    \n",
      "                                                                 \n",
      " dense_1 (Dense)             (None, 512)               262656    \n",
      "                                                                 \n",
      " dense_2 (Dense)             (None, 10)                5130      \n",
      "                                                                 \n",
      "=================================================================\n",
      "Total params: 669706 (2.55 MB)\n",
      "Trainable params: 669706 (2.55 MB)\n",
      "Non-trainable params: 0 (0.00 Byte)\n",
      "_________________________________________________________________\n"
     ]
    }
   ],
   "source": [
    "model = Sequential()\n",
    "model.add(Dense(512,activation='relu',input_shape=(784,)))\n",
    "model.add(Dense(512,activation='relu'))\n",
    "model.add(Dense(num_classes,activation='softmax'))\n",
    "model.summary()"
   ]
  },
  {
   "cell_type": "markdown",
   "id": "d1dc2b52",
   "metadata": {},
   "source": [
    "# Complie the model"
   ]
  },
  {
   "cell_type": "code",
   "execution_count": 11,
   "id": "92fa8e3c",
   "metadata": {},
   "outputs": [],
   "source": [
    "model.compile(loss='categorical_crossentropy',optimizer = RMSprop(),metrics=['accuracy'])"
   ]
  },
  {
   "cell_type": "markdown",
   "id": "4ed0c521",
   "metadata": {},
   "source": [
    "# Fit the Model"
   ]
  },
  {
   "cell_type": "code",
   "execution_count": 12,
   "id": "a587fee1",
   "metadata": {},
   "outputs": [
    {
     "name": "stdout",
     "output_type": "stream",
     "text": [
      "Epoch 1/20\n",
      "469/469 - 5s - loss: 0.5396 - accuracy: 0.8039 - val_loss: 0.4165 - val_accuracy: 0.8508 - 5s/epoch - 11ms/step\n",
      "Epoch 2/20\n",
      "469/469 - 5s - loss: 0.3745 - accuracy: 0.8626 - val_loss: 0.3832 - val_accuracy: 0.8533 - 5s/epoch - 11ms/step\n",
      "Epoch 3/20\n",
      "469/469 - 4s - loss: 0.3304 - accuracy: 0.8757 - val_loss: 0.4179 - val_accuracy: 0.8529 - 4s/epoch - 9ms/step\n",
      "Epoch 4/20\n",
      "469/469 - 4s - loss: 0.3040 - accuracy: 0.8863 - val_loss: 0.4175 - val_accuracy: 0.8527 - 4s/epoch - 8ms/step\n",
      "Epoch 5/20\n",
      "469/469 - 4s - loss: 0.2860 - accuracy: 0.8931 - val_loss: 0.3560 - val_accuracy: 0.8738 - 4s/epoch - 8ms/step\n",
      "Epoch 6/20\n",
      "469/469 - 4s - loss: 0.2684 - accuracy: 0.8988 - val_loss: 0.3419 - val_accuracy: 0.8778 - 4s/epoch - 8ms/step\n",
      "Epoch 7/20\n",
      "469/469 - 4s - loss: 0.2560 - accuracy: 0.9031 - val_loss: 0.3376 - val_accuracy: 0.8824 - 4s/epoch - 8ms/step\n",
      "Epoch 8/20\n",
      "469/469 - 4s - loss: 0.2452 - accuracy: 0.9064 - val_loss: 0.3310 - val_accuracy: 0.8841 - 4s/epoch - 8ms/step\n",
      "Epoch 9/20\n",
      "469/469 - 4s - loss: 0.2358 - accuracy: 0.9115 - val_loss: 0.3488 - val_accuracy: 0.8872 - 4s/epoch - 8ms/step\n",
      "Epoch 10/20\n",
      "469/469 - 4s - loss: 0.2269 - accuracy: 0.9138 - val_loss: 0.3482 - val_accuracy: 0.8820 - 4s/epoch - 8ms/step\n",
      "Epoch 11/20\n",
      "469/469 - 5s - loss: 0.2188 - accuracy: 0.9171 - val_loss: 0.3952 - val_accuracy: 0.8792 - 5s/epoch - 11ms/step\n",
      "Epoch 12/20\n",
      "469/469 - 4s - loss: 0.2122 - accuracy: 0.9196 - val_loss: 0.3378 - val_accuracy: 0.8917 - 4s/epoch - 9ms/step\n",
      "Epoch 13/20\n",
      "469/469 - 4s - loss: 0.2054 - accuracy: 0.9223 - val_loss: 0.3729 - val_accuracy: 0.8859 - 4s/epoch - 9ms/step\n",
      "Epoch 14/20\n",
      "469/469 - 7s - loss: 0.2006 - accuracy: 0.9248 - val_loss: 0.4244 - val_accuracy: 0.8794 - 7s/epoch - 16ms/step\n",
      "Epoch 15/20\n",
      "469/469 - 14s - loss: 0.1961 - accuracy: 0.9256 - val_loss: 0.3725 - val_accuracy: 0.8859 - 14s/epoch - 30ms/step\n",
      "Epoch 16/20\n",
      "469/469 - 14s - loss: 0.1901 - accuracy: 0.9284 - val_loss: 0.3861 - val_accuracy: 0.8916 - 14s/epoch - 31ms/step\n",
      "Epoch 17/20\n",
      "469/469 - 16s - loss: 0.1859 - accuracy: 0.9302 - val_loss: 0.4273 - val_accuracy: 0.8857 - 16s/epoch - 34ms/step\n",
      "Epoch 18/20\n",
      "469/469 - 14s - loss: 0.1819 - accuracy: 0.9305 - val_loss: 0.4121 - val_accuracy: 0.8909 - 14s/epoch - 29ms/step\n",
      "Epoch 19/20\n",
      "469/469 - 14s - loss: 0.1792 - accuracy: 0.9333 - val_loss: 0.4156 - val_accuracy: 0.8858 - 14s/epoch - 29ms/step\n",
      "Epoch 20/20\n",
      "469/469 - 14s - loss: 0.1737 - accuracy: 0.9340 - val_loss: 0.4189 - val_accuracy: 0.8974 - 14s/epoch - 29ms/step\n",
      "313/313 [==============================] - 1s 4ms/step - loss: 0.4189 - accuracy: 0.8974\n"
     ]
    }
   ],
   "source": [
    "history = model.fit(xtrain,ytrain,\n",
    "                   batch_size=batch_size,\n",
    "                   epochs=epochs,\n",
    "                   verbose=2,\n",
    "                   validation_data=(xtest,ytest))\n",
    "score = model.evaluate(xtest,ytest,verbose=1)"
   ]
  },
  {
   "cell_type": "code",
   "execution_count": 13,
   "id": "cde85b15",
   "metadata": {},
   "outputs": [
    {
     "name": "stdout",
     "output_type": "stream",
     "text": [
      "Test loss:\t 0.41887733340263367\n",
      "Test Accuracy:\t 0.8974000215530396\n"
     ]
    }
   ],
   "source": [
    "print('Test loss:\\t',score[0])\n",
    "print('Test Accuracy:\\t',score[1])"
   ]
  },
  {
   "cell_type": "code",
   "execution_count": null,
   "id": "fec6e049",
   "metadata": {},
   "outputs": [],
   "source": []
  }
 ],
 "metadata": {
  "kernelspec": {
   "display_name": "Python 3 (ipykernel)",
   "language": "python",
   "name": "python3"
  },
  "language_info": {
   "codemirror_mode": {
    "name": "ipython",
    "version": 3
   },
   "file_extension": ".py",
   "mimetype": "text/x-python",
   "name": "python",
   "nbconvert_exporter": "python",
   "pygments_lexer": "ipython3",
   "version": "3.11.4"
  }
 },
 "nbformat": 4,
 "nbformat_minor": 5
}
